{
 "cells": [
  {
   "cell_type": "markdown",
   "metadata": {},
   "source": [
    "# Exercise 03  \n",
    "### LIST  \n",
    "Berikut merupakan sejumlah latihan untuk kalian dalam praktek programa komputer Modul 3.  \n",
    "Pertama buatlah sebuah list dengan nama variabel \"biodata\" dan isikan elemen terdiri dari :\n",
    "* Nama\n",
    "* NIM\n",
    "* Umur\n",
    "* Kota Asal\n",
    "* Hobi  \n",
    "\n",
    "Berikut contoh yang kami berikan\n"
   ]
  },
  {
   "cell_type": "markdown",
   "metadata": {},
   "source": [
    "![](./image/1.png)"
   ]
  },
  {
   "cell_type": "code",
   "execution_count": 1,
   "metadata": {},
   "outputs": [],
   "source": [
    "#SOAL-1\n",
    "#BUATLAH LIST KALIAN DISINI\n",
    "biodata = [\"Tanisa\", \"I0321103\", 18, \"Bandar Lampung\", \"Games\"]"
   ]
  },
  {
   "cell_type": "markdown",
   "metadata": {},
   "source": [
    "Sekarang list kalian sudah terdefinisi ke dalam sebuah variabel.  \n",
    "Selanjutnya adalah contoh unuk mengakses elemen list.  \n",
    "  \n",
    "![](./image/2.png)"
   ]
  },
  {
   "cell_type": "code",
   "execution_count": 3,
   "metadata": {},
   "outputs": [
    {
     "name": "stdout",
     "output_type": "stream",
     "text": [
      "BIODATA\n",
      "_________\n",
      "Nama\t: Tanisa \n",
      "NIM\t: I0321103 \n",
      "USIA\t: 18 \n",
      "Asal\t: Bandar Lampung \n",
      "Hobi\t: Games\n"
     ]
    }
   ],
   "source": [
    "#SOAL-2\n",
    "#TULISKAN KEMBALI KODE DIATAS SESUAI DATA KALIAN MASING-MASING DISINI\n",
    "print(\"BIODATA\\n_________\\nNama\\t:\", biodata[0], \"\\nNIM\\t:\", biodata[1], \"\\nUSIA\\t:\", biodata[2], \"\\nAsal\\t:\", biodata[3], \"\\nHobi\\t:\", biodata[4])"
   ]
  },
  {
   "cell_type": "markdown",
   "metadata": {},
   "source": [
    "Ternyata kita ingin menuliskan hobi lebih dari 1, maka selanjutnya kita akan mengubah hobi kita yang ada di list. Karena lebih dari 1 maka kita akan mengubah elemen hobi menjadi list of list.  \n",
    "\n",
    "![](./image/3.png)\n"
   ]
  },
  {
   "cell_type": "code",
   "execution_count": 4,
   "metadata": {},
   "outputs": [
    {
     "name": "stdout",
     "output_type": "stream",
     "text": [
      "['Tanisa', 'I0321103', 18, 'Bandar Lampung', ['Games', 'Film', 'Wisata']]\n"
     ]
    }
   ],
   "source": [
    "#SOAL-3\n",
    "#TULISKAN KEMBALI KODE DIATAS SESUAI HOBI KALIAN DISINI\n",
    "biodata[4] = [\"Games\", \"Film\", \"Wisata\"]\n",
    "print(biodata)"
   ]
  },
  {
   "cell_type": "markdown",
   "metadata": {},
   "source": [
    "NIM merupakan data privasi di kondisi tertentu, maka sebaiknya kita menghapus nya.  \n",
    "\n",
    "![](./image/4.png)\n"
   ]
  },
  {
   "cell_type": "code",
   "execution_count": 5,
   "metadata": {},
   "outputs": [
    {
     "name": "stdout",
     "output_type": "stream",
     "text": [
      "['Tanisa', 18, 'Bandar Lampung', ['Games', 'Film', 'Wisata']]\n"
     ]
    }
   ],
   "source": [
    "#SOAL-4\n",
    "#KERJAKAN PUNYA KALIAN DISINI\n",
    "biodata.remove(\"I0321103\")\n",
    "print(biodata)"
   ]
  },
  {
   "cell_type": "markdown",
   "metadata": {},
   "source": [
    "Untuk report final tuliskan kembali kode dengan format output seperti SOAL-2, namun dengan penyesuaian terhadap perubahan yang telah kalian lakukan sebelumnya."
   ]
  },
  {
   "cell_type": "code",
   "execution_count": 6,
   "metadata": {},
   "outputs": [
    {
     "name": "stdout",
     "output_type": "stream",
     "text": [
      "BIODATA\n",
      "_______\n",
      "Nama\t: Tanisa \n",
      "USIA\t: 18 \n",
      "Asal\t: Bandar Lampung \n",
      "Hobi\t: ['Games', 'Film', 'Wisata']\n"
     ]
    }
   ],
   "source": [
    "#SOAL-5\n",
    "#Kerjakan disini\n",
    "print(\"BIODATA\\n_______\\nNama\\t:\", biodata[0], \"\\nUSIA\\t:\", biodata[1], \"\\nAsal\\t:\", biodata[2], \"\\nHobi\\t:\", biodata[3])"
   ]
  },
  {
   "cell_type": "markdown",
   "metadata": {},
   "source": [
    "### DICTIONARY"
   ]
  },
  {
   "cell_type": "markdown",
   "metadata": {},
   "source": [
    "Berikut merupakan latihan mengenai tipe data dictionary.  \n",
    "Selamat berlatih.  \n",
    "Semangat!!!."
   ]
  },
  {
   "cell_type": "code",
   "execution_count": 8,
   "metadata": {},
   "outputs": [
    {
     "name": "stdout",
     "output_type": "stream",
     "text": [
      "Nama Lengkap: Tanisa Adha Ningrum\n",
      "{'nama_depan': 'Tanisa', 'nama_belakang': 'Adha Ningrum', 'usia': 18, 'kota_asal': 'Bandar Lampung', 'hobi': 'Games', 'Prodi': 'Teknik Industri'}\n",
      "{'nama_depan': 'Tanisa', 'nama_belakang': 'Adha Ningrum', 'usia': 18, 'kota_asal': 'Bandar Lampung', 'hobi': 'Film', 'Prodi': 'Teknik Industri'}\n",
      "{'nama_depan': 'Tanisa', 'nama_belakang': 'Adha Ningrum', 'usia': 18, 'hobi': 'Film', 'Prodi': 'Teknik Industri'}\n"
     ]
    }
   ],
   "source": [
    "#SILAHKAN ISI CODE RUMPANG BERIKUT SESUAI KONDISI KALIAN\n",
    "biodata = {'nama_depan':'Tanisa','nama_belakang':'Adha Ningrum','usia':18,'kota_asal':'Bandar Lampung','hobi':'Games'}\n",
    "print('Nama Lengkap: ' + biodata['nama_depan'] + ' ' + biodata['nama_belakang'])\n",
    "\n",
    "#MENAMBAHKAN KEY&VALUE \"PRODI\" dan \"HOBI\" MASING-MASING\n",
    "biodata['Prodi'] = 'Teknik Industri'\n",
    "print(biodata)\n",
    "\n",
    "#MENGUBAH VALUE PADA SEBUAH DICTIONARY\n",
    "biodata['hobi'] = 'Film'\n",
    "print(biodata)\n",
    "\n",
    "#MENGHAPUS SALAH SATU KEY-VALUE PAIRS\n",
    "del biodata['kota_asal']\n",
    "print(biodata)\n",
    "\n",
    "\n",
    "\n",
    "\n"
   ]
  },
  {
   "cell_type": "markdown",
   "metadata": {},
   "source": [
    "### Cara Pengumpulan\n",
    "\n",
    "1. Buka *New Terminal*\n",
    "2. Pastikan *path* Terminal adalah folder repositori kalian (NIM-Nama-Prokom).\n",
    "3. Tambahkan file yang akan ditrack dengan `git add <nama file>`. Nama file bisa diubah . (titik)  `git add .`yang artinya semua file dalam folder akan ditrack.\n",
    "4. Lakukan commit perubahan dengan `git commit -m <deskripsi>`.\n",
    "5. Lakukan push dengan `git push -u origin <nama branch>`. Nama branch dapat diketahui dengan `git branch`.\n",
    "6. Pastikan Exercise-02 telah terupload dan dapat diakses di repositori dengan mengaksesnya di browser."
   ]
  }
 ],
 "metadata": {
  "interpreter": {
   "hash": "ac59ebe37160ed0dfa835113d9b8498d9f09ceb179beaac4002f036b9467c963"
  },
  "kernelspec": {
   "display_name": "Python 3.9.8 64-bit",
   "language": "python",
   "name": "python3"
  },
  "language_info": {
   "codemirror_mode": {
    "name": "ipython",
    "version": 3
   },
   "file_extension": ".py",
   "mimetype": "text/x-python",
   "name": "python",
   "nbconvert_exporter": "python",
   "pygments_lexer": "ipython3",
   "version": "3.10.4"
  },
  "orig_nbformat": 4
 },
 "nbformat": 4,
 "nbformat_minor": 2
}
